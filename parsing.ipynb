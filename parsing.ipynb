{
 "cells": [
  {
   "cell_type": "code",
   "execution_count": 1,
   "metadata": {},
   "outputs": [],
   "source": [
    "import time\n",
    "from tqdm import tqdm\n",
    "import pandas as pd\n",
    "import authorization\n",
    "import sys\n"
   ]
  },
  {
   "cell_type": "code",
   "execution_count": 2,
   "metadata": {},
   "outputs": [],
   "source": [
    "# If your authentification script is not in the project directory\n",
    "# append its folder to sys.path\n",
    "sys.path.append(\"../spotify_api_web_app\")\n",
    "\n",
    "# Authorize and call access object \"sp\"\n",
    "sp = authorization.authorize()\n",
    "\n",
    "# Get all genres\n",
    "genres = sp.recommendation_genre_seeds()\n"
   ]
  },
  {
   "cell_type": "code",
   "execution_count": 3,
   "metadata": {},
   "outputs": [],
   "source": [
    "# Set number of recommendations per genre\n",
    "n_recs = 100\n",
    "\n",
    "# Initiate a dictionary with all the information you want to crawl\n",
    "data_dict = {\"id\": [], \"genre\": [], \"track_name\": [], \"artist_name\": [],\n",
    "             \"valence\": [], \"energy\": []}"
   ]
  },
  {
   "cell_type": "code",
   "execution_count": 4,
   "metadata": {},
   "outputs": [
    {
     "name": "stderr",
     "output_type": "stream",
     "text": [
      "  4%|▍         | 5/126 [04:54<1:58:40, 58.85s/it]\n"
     ]
    },
    {
     "ename": "ServiceUnavailable",
     "evalue": "Error in https://api.spotify.com/v1/tracks/00WCxlPajxvVmgOfVpcLGc:\n503: Service unavailable\n",
     "output_type": "error",
     "traceback": [
      "\u001b[1;31m---------------------------------------------------------------------------\u001b[0m",
      "\u001b[1;31mServiceUnavailable\u001b[0m                        Traceback (most recent call last)",
      "Cell \u001b[1;32mIn [4], line 20\u001b[0m\n\u001b[0;32m     18\u001b[0m data_dict[\u001b[39m\"\u001b[39m\u001b[39mgenre\u001b[39m\u001b[39m\"\u001b[39m]\u001b[39m.\u001b[39mappend(g)\n\u001b[0;32m     19\u001b[0m \u001b[39m# Metadata\u001b[39;00m\n\u001b[1;32m---> 20\u001b[0m track_meta \u001b[39m=\u001b[39m sp\u001b[39m.\u001b[39;49mtrack(track[\u001b[39m\"\u001b[39;49m\u001b[39mid\u001b[39;49m\u001b[39m\"\u001b[39;49m])\n\u001b[0;32m     21\u001b[0m data_dict[\u001b[39m\"\u001b[39m\u001b[39mtrack_name\u001b[39m\u001b[39m\"\u001b[39m]\u001b[39m.\u001b[39mappend(track_meta\u001b[39m.\u001b[39mname)\n\u001b[0;32m     22\u001b[0m data_dict[\u001b[39m\"\u001b[39m\u001b[39martist_name\u001b[39m\u001b[39m\"\u001b[39m]\u001b[39m.\u001b[39mappend(track_meta\u001b[39m.\u001b[39malbum\u001b[39m.\u001b[39martists[\u001b[39m0\u001b[39m]\u001b[39m.\u001b[39mname)\n",
      "File \u001b[1;32mc:\\Users\\aleks\\Desktop\\DEVELOPER\\MusicRecomandation\\music_venv\\lib\\site-packages\\tekore\\_sender\\client.py:79\u001b[0m, in \u001b[0;36msend_and_process.<locals>.decorator.<locals>.wrapper\u001b[1;34m(self, *args, **kwargs)\u001b[0m\n\u001b[0;32m     76\u001b[0m     \u001b[39mreturn\u001b[39;00m async_send(\u001b[39mself\u001b[39m, request, params)\n\u001b[0;32m     78\u001b[0m response \u001b[39m=\u001b[39m \u001b[39mself\u001b[39m\u001b[39m.\u001b[39msend(request)\n\u001b[1;32m---> 79\u001b[0m \u001b[39mreturn\u001b[39;00m post_func(request, response, \u001b[39m*\u001b[39;49mparams)\n",
      "File \u001b[1;32mc:\\Users\\aleks\\Desktop\\DEVELOPER\\MusicRecomandation\\music_venv\\lib\\site-packages\\tekore\\_client\\decor\\__init__.py:19\u001b[0m, in \u001b[0;36msend_and_process.<locals>.parse_response\u001b[1;34m(request, response)\u001b[0m\n\u001b[0;32m     18\u001b[0m \u001b[39mdef\u001b[39;00m \u001b[39mparse_response\u001b[39m(request, response):\n\u001b[1;32m---> 19\u001b[0m     handle_errors(request, response)\n\u001b[0;32m     20\u001b[0m     \u001b[39mreturn\u001b[39;00m post_func(response\u001b[39m.\u001b[39mcontent)\n",
      "File \u001b[1;32mc:\\Users\\aleks\\Desktop\\DEVELOPER\\MusicRecomandation\\music_venv\\lib\\site-packages\\tekore\\_client\\decor\\handle.py:33\u001b[0m, in \u001b[0;36mhandle_errors\u001b[1;34m(request, response)\u001b[0m\n\u001b[0;32m     27\u001b[0m error_str \u001b[39m=\u001b[39m error_format\u001b[39m.\u001b[39mformat(\n\u001b[0;32m     28\u001b[0m     url\u001b[39m=\u001b[39mresponse\u001b[39m.\u001b[39murl,\n\u001b[0;32m     29\u001b[0m     code\u001b[39m=\u001b[39mresponse\u001b[39m.\u001b[39mstatus_code,\n\u001b[0;32m     30\u001b[0m     msg\u001b[39m=\u001b[39mparse_error_reason(response)\n\u001b[0;32m     31\u001b[0m )\n\u001b[0;32m     32\u001b[0m error_cls \u001b[39m=\u001b[39m get_error(response\u001b[39m.\u001b[39mstatus_code)\n\u001b[1;32m---> 33\u001b[0m \u001b[39mraise\u001b[39;00m error_cls(error_str, request\u001b[39m=\u001b[39mrequest, response\u001b[39m=\u001b[39mresponse)\n",
      "\u001b[1;31mServiceUnavailable\u001b[0m: Error in https://api.spotify.com/v1/tracks/00WCxlPajxvVmgOfVpcLGc:\n503: Service unavailable\n"
     ]
    }
   ],
   "source": [
    "################\n",
    "## CRAWL DATA ##\n",
    "################\n",
    "\n",
    "# Get recs for every genre\n",
    "for g in tqdm(genres):\n",
    "\n",
    "    # Get n recommendations\n",
    "    recs = sp.recommendations(genres=[g], limit=n_recs)\n",
    "    # json-like string to dict\n",
    "    recs = eval(recs.json().replace(\"null\", \"-999\").replace(\"false\",\n",
    "                \"False\").replace(\"true\", \"True\"))[\"tracks\"]\n",
    "\n",
    "    # Crawl data from each track\n",
    "    for track in recs:\n",
    "        # ID and Genre\n",
    "        data_dict[\"id\"].append(track[\"id\"])\n",
    "        data_dict[\"genre\"].append(g)\n",
    "        # Metadata\n",
    "        track_meta = sp.track(track[\"id\"])\n",
    "        data_dict[\"track_name\"].append(track_meta.name)\n",
    "        data_dict[\"artist_name\"].append(track_meta.album.artists[0].name)\n",
    "        # Valence and energy\n",
    "        track_features = sp.track_audio_features(track[\"id\"])\n",
    "        data_dict[\"valence\"].append(track_features.valence)\n",
    "        data_dict[\"energy\"].append(track_features.energy)\n",
    "\n",
    "        # Wait 0.2 seconds per track so that the api doesnt overheat\n",
    "        time.sleep(0.2)\n"
   ]
  },
  {
   "cell_type": "code",
   "execution_count": null,
   "metadata": {},
   "outputs": [],
   "source": [
    "# Store data in dataframe\n",
    "df = pd.DataFrame(data_dict)\n",
    "\n",
    "# Drop duplicates\n",
    "df.drop_duplicates(subset=\"id\", keep=\"first\", inplace=True)\n",
    "df.to_csv(\"valence_arousal_dataset.csv\", index=False)"
   ]
  },
  {
   "cell_type": "code",
   "execution_count": null,
   "metadata": {},
   "outputs": [],
   "source": []
  },
  {
   "cell_type": "code",
   "execution_count": null,
   "metadata": {},
   "outputs": [],
   "source": []
  },
  {
   "cell_type": "code",
   "execution_count": null,
   "metadata": {},
   "outputs": [],
   "source": []
  },
  {
   "cell_type": "code",
   "execution_count": null,
   "metadata": {},
   "outputs": [],
   "source": []
  }
 ],
 "metadata": {
  "kernelspec": {
   "display_name": "Python 3.10.7 ('music_venv': venv)",
   "language": "python",
   "name": "python3"
  },
  "language_info": {
   "codemirror_mode": {
    "name": "ipython",
    "version": 3
   },
   "file_extension": ".py",
   "mimetype": "text/x-python",
   "name": "python",
   "nbconvert_exporter": "python",
   "pygments_lexer": "ipython3",
   "version": "3.10.7"
  },
  "orig_nbformat": 4,
  "vscode": {
   "interpreter": {
    "hash": "38c2cf7081755369d673d8489d5358c097d03cbb149b5e8077278c9098116048"
   }
  }
 },
 "nbformat": 4,
 "nbformat_minor": 2
}
